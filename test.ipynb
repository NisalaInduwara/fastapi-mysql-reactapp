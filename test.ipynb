{
 "cells": [
  {
   "cell_type": "code",
   "execution_count": 15,
   "metadata": {},
   "outputs": [],
   "source": [
    "from selenium import webdriver\n",
    "from selenium.webdriver.chrome.service import Service\n",
    "from bs4 import BeautifulSoup"
   ]
  },
  {
   "cell_type": "code",
   "execution_count": 16,
   "metadata": {},
   "outputs": [],
   "source": [
    "chrome_driver_path = 'webdriver\\chromedriver.exe'\n",
    "chrome_service = Service(executable_path=chrome_driver_path)\n",
    "tracking_details_path = 'https://parcelsapp.com/en/tracking/'"
   ]
  },
  {
   "cell_type": "code",
   "execution_count": 17,
   "metadata": {},
   "outputs": [
    {
     "name": "stdout",
     "output_type": "stream",
     "text": [
      "[<li class=\"event\">\n",
      "<div class=\"event-time\">\n",
      "<strong>25 Nov 2023</strong>\n",
      "<span></span>\n",
      "</div>\n",
      "<div class=\"event-dot\"></div>\n",
      "<div class=\"event-content\">\n",
      "<strong>Please reload the page, to be able to track your package</strong>\n",
      "</div>\n",
      "</li>]\n"
     ]
    }
   ],
   "source": [
    "driver = webdriver.Chrome(service=chrome_service)\n",
    "driver.set_page_load_timeout(120)\n",
    "try:\n",
    "    driver.get(f'https://parcelsapp.com/en/tracking/420263479214490233605874337697')\n",
    "    content = driver.page_source\n",
    "except Exception as e:\n",
    "    print(f\"Page load timed out: {e}\")\n",
    "\n",
    "soup = BeautifulSoup(content, 'html.parser')\n",
    "div_elements = soup.find_all('li', attrs={'class': 'event'})\n",
    "print(div_elements)"
   ]
  },
  {
   "cell_type": "code",
   "execution_count": null,
   "metadata": {},
   "outputs": [],
   "source": []
  },
  {
   "cell_type": "code",
   "execution_count": null,
   "metadata": {},
   "outputs": [],
   "source": []
  },
  {
   "cell_type": "code",
   "execution_count": null,
   "metadata": {},
   "outputs": [],
   "source": []
  },
  {
   "cell_type": "code",
   "execution_count": null,
   "metadata": {},
   "outputs": [],
   "source": []
  }
 ],
 "metadata": {
  "kernelspec": {
   "display_name": "ebay_env",
   "language": "python",
   "name": "python3"
  },
  "language_info": {
   "codemirror_mode": {
    "name": "ipython",
    "version": 3
   },
   "file_extension": ".py",
   "mimetype": "text/x-python",
   "name": "python",
   "nbconvert_exporter": "python",
   "pygments_lexer": "ipython3",
   "version": "3.11.4"
  }
 },
 "nbformat": 4,
 "nbformat_minor": 2
}
